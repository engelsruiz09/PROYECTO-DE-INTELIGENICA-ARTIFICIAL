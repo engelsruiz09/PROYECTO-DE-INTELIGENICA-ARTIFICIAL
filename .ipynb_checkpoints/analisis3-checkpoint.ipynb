{
 "cells": [
  {
   "cell_type": "code",
   "execution_count": 1,
   "metadata": {
    "vscode": {
     "languageId": "plaintext"
    }
   },
   "outputs": [
    {
     "name": "stdout",
     "output_type": "stream",
     "text": [
      "Requirement already satisfied: scikit-learn in d:\\anaconda\\lib\\site-packages (1.2.1)\n",
      "Requirement already satisfied: joblib>=1.1.1 in d:\\anaconda\\lib\\site-packages (from scikit-learn) (1.1.1)\n",
      "Requirement already satisfied: numpy>=1.17.3 in d:\\anaconda\\lib\\site-packages (from scikit-learn) (1.23.5)\n",
      "Requirement already satisfied: threadpoolctl>=2.0.0 in d:\\anaconda\\lib\\site-packages (from scikit-learn) (2.2.0)\n",
      "Requirement already satisfied: scipy>=1.3.2 in d:\\anaconda\\lib\\site-packages (from scikit-learn) (1.10.0)\n"
     ]
    }
   ],
   "source": [
    "!pip install scikit-learn"
   ]
  },
  {
   "cell_type": "code",
   "execution_count": 2,
   "metadata": {
    "vscode": {
     "languageId": "plaintext"
    }
   },
   "outputs": [],
   "source": [
    "# 1) Importar las librerías estándar de análisis\n",
    "import pandas as pd\n",
    "import numpy as np\n",
    "import numpy as np\n",
    "from collections import defaultdict\n",
    "\n",
    "# import matplotlib.pyplot as plt "
   ]
  },
  {
   "cell_type": "code",
   "execution_count": 3,
   "metadata": {
    "vscode": {
     "languageId": "plaintext"
    }
   },
   "outputs": [],
   "source": [
    "# 2) Importar la clase Naive Bayes\n",
    "import sys\n",
    "sys.path.append(\"..\")  # Para que Python busque un nivel arriba (ajusta según tu ruta)\n",
    "from naivebayes import RecNaiveBayes"
   ]
  },
  {
   "cell_type": "code",
   "execution_count": 4,
   "metadata": {
    "vscode": {
     "languageId": "plaintext"
    }
   },
   "outputs": [],
   "source": [
    "# 3) Cargar datos\n",
    "data_path = \"training.1600000.processed.noemoticon.csv\"\n",
    "df = pd.read_csv(data_path, encoding='latin-1', header=None)"
   ]
  },
  {
   "cell_type": "code",
   "execution_count": 5,
   "metadata": {
    "vscode": {
     "languageId": "plaintext"
    }
   },
   "outputs": [
    {
     "data": {
      "text/html": [
       "<div>\n",
       "<style scoped>\n",
       "    .dataframe tbody tr th:only-of-type {\n",
       "        vertical-align: middle;\n",
       "    }\n",
       "\n",
       "    .dataframe tbody tr th {\n",
       "        vertical-align: top;\n",
       "    }\n",
       "\n",
       "    .dataframe thead th {\n",
       "        text-align: right;\n",
       "    }\n",
       "</style>\n",
       "<table border=\"1\" class=\"dataframe\">\n",
       "  <thead>\n",
       "    <tr style=\"text-align: right;\">\n",
       "      <th></th>\n",
       "      <th>0</th>\n",
       "      <th>1</th>\n",
       "      <th>2</th>\n",
       "      <th>3</th>\n",
       "      <th>4</th>\n",
       "      <th>5</th>\n",
       "    </tr>\n",
       "  </thead>\n",
       "  <tbody>\n",
       "    <tr>\n",
       "      <th>0</th>\n",
       "      <td>0</td>\n",
       "      <td>1467810369</td>\n",
       "      <td>Mon Apr 06 22:19:45 PDT 2009</td>\n",
       "      <td>NO_QUERY</td>\n",
       "      <td>_TheSpecialOne_</td>\n",
       "      <td>@switchfoot http://twitpic.com/2y1zl - Awww, t...</td>\n",
       "    </tr>\n",
       "    <tr>\n",
       "      <th>1</th>\n",
       "      <td>0</td>\n",
       "      <td>1467810672</td>\n",
       "      <td>Mon Apr 06 22:19:49 PDT 2009</td>\n",
       "      <td>NO_QUERY</td>\n",
       "      <td>scotthamilton</td>\n",
       "      <td>is upset that he can't update his Facebook by ...</td>\n",
       "    </tr>\n",
       "    <tr>\n",
       "      <th>2</th>\n",
       "      <td>0</td>\n",
       "      <td>1467810917</td>\n",
       "      <td>Mon Apr 06 22:19:53 PDT 2009</td>\n",
       "      <td>NO_QUERY</td>\n",
       "      <td>mattycus</td>\n",
       "      <td>@Kenichan I dived many times for the ball. Man...</td>\n",
       "    </tr>\n",
       "    <tr>\n",
       "      <th>3</th>\n",
       "      <td>0</td>\n",
       "      <td>1467811184</td>\n",
       "      <td>Mon Apr 06 22:19:57 PDT 2009</td>\n",
       "      <td>NO_QUERY</td>\n",
       "      <td>ElleCTF</td>\n",
       "      <td>my whole body feels itchy and like its on fire</td>\n",
       "    </tr>\n",
       "    <tr>\n",
       "      <th>4</th>\n",
       "      <td>0</td>\n",
       "      <td>1467811193</td>\n",
       "      <td>Mon Apr 06 22:19:57 PDT 2009</td>\n",
       "      <td>NO_QUERY</td>\n",
       "      <td>Karoli</td>\n",
       "      <td>@nationwideclass no, it's not behaving at all....</td>\n",
       "    </tr>\n",
       "  </tbody>\n",
       "</table>\n",
       "</div>"
      ],
      "text/plain": [
       "   0           1                             2         3                4  \\\n",
       "0  0  1467810369  Mon Apr 06 22:19:45 PDT 2009  NO_QUERY  _TheSpecialOne_   \n",
       "1  0  1467810672  Mon Apr 06 22:19:49 PDT 2009  NO_QUERY    scotthamilton   \n",
       "2  0  1467810917  Mon Apr 06 22:19:53 PDT 2009  NO_QUERY         mattycus   \n",
       "3  0  1467811184  Mon Apr 06 22:19:57 PDT 2009  NO_QUERY          ElleCTF   \n",
       "4  0  1467811193  Mon Apr 06 22:19:57 PDT 2009  NO_QUERY           Karoli   \n",
       "\n",
       "                                                   5  \n",
       "0  @switchfoot http://twitpic.com/2y1zl - Awww, t...  \n",
       "1  is upset that he can't update his Facebook by ...  \n",
       "2  @Kenichan I dived many times for the ball. Man...  \n",
       "3    my whole body feels itchy and like its on fire   \n",
       "4  @nationwideclass no, it's not behaving at all....  "
      ]
     },
     "execution_count": 5,
     "metadata": {},
     "output_type": "execute_result"
    }
   ],
   "source": [
    "df.head() # Explora los datos"
   ]
  },
  {
   "cell_type": "code",
   "execution_count": 6,
   "metadata": {},
   "outputs": [
    {
     "name": "stdout",
     "output_type": "stream",
     "text": [
      "<class 'pandas.core.frame.DataFrame'>\n",
      "RangeIndex: 1600000 entries, 0 to 1599999\n",
      "Data columns (total 6 columns):\n",
      " #   Column  Non-Null Count    Dtype \n",
      "---  ------  --------------    ----- \n",
      " 0   0       1600000 non-null  int64 \n",
      " 1   1       1600000 non-null  int64 \n",
      " 2   2       1600000 non-null  object\n",
      " 3   3       1600000 non-null  object\n",
      " 4   4       1600000 non-null  object\n",
      " 5   5       1600000 non-null  object\n",
      "dtypes: int64(2), object(4)\n",
      "memory usage: 73.2+ MB\n"
     ]
    }
   ],
   "source": [
    "df.info()"
   ]
  },
  {
   "cell_type": "code",
   "execution_count": null,
   "metadata": {
    "vscode": {
     "languageId": "plaintext"
    }
   },
   "outputs": [],
   "source": [
    "# Sentiment140: \n",
    "#   0 => negative, 2 => neutral, 4 => positive\n",
    "# columns: [target, id, date, flag, user, text]"
   ]
  },
  {
   "cell_type": "code",
   "execution_count": 7,
   "metadata": {
    "vscode": {
     "languageId": "plaintext"
    }
   },
   "outputs": [
    {
     "data": {
      "text/html": [
       "<div>\n",
       "<style scoped>\n",
       "    .dataframe tbody tr th:only-of-type {\n",
       "        vertical-align: middle;\n",
       "    }\n",
       "\n",
       "    .dataframe tbody tr th {\n",
       "        vertical-align: top;\n",
       "    }\n",
       "\n",
       "    .dataframe thead th {\n",
       "        text-align: right;\n",
       "    }\n",
       "</style>\n",
       "<table border=\"1\" class=\"dataframe\">\n",
       "  <thead>\n",
       "    <tr style=\"text-align: right;\">\n",
       "      <th></th>\n",
       "      <th>target</th>\n",
       "      <th>id</th>\n",
       "      <th>date</th>\n",
       "      <th>flag</th>\n",
       "      <th>user</th>\n",
       "      <th>text</th>\n",
       "    </tr>\n",
       "  </thead>\n",
       "  <tbody>\n",
       "    <tr>\n",
       "      <th>0</th>\n",
       "      <td>0</td>\n",
       "      <td>1467810369</td>\n",
       "      <td>Mon Apr 06 22:19:45 PDT 2009</td>\n",
       "      <td>NO_QUERY</td>\n",
       "      <td>_TheSpecialOne_</td>\n",
       "      <td>@switchfoot http://twitpic.com/2y1zl - Awww, t...</td>\n",
       "    </tr>\n",
       "    <tr>\n",
       "      <th>1</th>\n",
       "      <td>0</td>\n",
       "      <td>1467810672</td>\n",
       "      <td>Mon Apr 06 22:19:49 PDT 2009</td>\n",
       "      <td>NO_QUERY</td>\n",
       "      <td>scotthamilton</td>\n",
       "      <td>is upset that he can't update his Facebook by ...</td>\n",
       "    </tr>\n",
       "    <tr>\n",
       "      <th>2</th>\n",
       "      <td>0</td>\n",
       "      <td>1467810917</td>\n",
       "      <td>Mon Apr 06 22:19:53 PDT 2009</td>\n",
       "      <td>NO_QUERY</td>\n",
       "      <td>mattycus</td>\n",
       "      <td>@Kenichan I dived many times for the ball. Man...</td>\n",
       "    </tr>\n",
       "    <tr>\n",
       "      <th>3</th>\n",
       "      <td>0</td>\n",
       "      <td>1467811184</td>\n",
       "      <td>Mon Apr 06 22:19:57 PDT 2009</td>\n",
       "      <td>NO_QUERY</td>\n",
       "      <td>ElleCTF</td>\n",
       "      <td>my whole body feels itchy and like its on fire</td>\n",
       "    </tr>\n",
       "    <tr>\n",
       "      <th>4</th>\n",
       "      <td>0</td>\n",
       "      <td>1467811193</td>\n",
       "      <td>Mon Apr 06 22:19:57 PDT 2009</td>\n",
       "      <td>NO_QUERY</td>\n",
       "      <td>Karoli</td>\n",
       "      <td>@nationwideclass no, it's not behaving at all....</td>\n",
       "    </tr>\n",
       "  </tbody>\n",
       "</table>\n",
       "</div>"
      ],
      "text/plain": [
       "   target          id                          date      flag  \\\n",
       "0       0  1467810369  Mon Apr 06 22:19:45 PDT 2009  NO_QUERY   \n",
       "1       0  1467810672  Mon Apr 06 22:19:49 PDT 2009  NO_QUERY   \n",
       "2       0  1467810917  Mon Apr 06 22:19:53 PDT 2009  NO_QUERY   \n",
       "3       0  1467811184  Mon Apr 06 22:19:57 PDT 2009  NO_QUERY   \n",
       "4       0  1467811193  Mon Apr 06 22:19:57 PDT 2009  NO_QUERY   \n",
       "\n",
       "              user                                               text  \n",
       "0  _TheSpecialOne_  @switchfoot http://twitpic.com/2y1zl - Awww, t...  \n",
       "1    scotthamilton  is upset that he can't update his Facebook by ...  \n",
       "2         mattycus  @Kenichan I dived many times for the ball. Man...  \n",
       "3          ElleCTF    my whole body feels itchy and like its on fire   \n",
       "4           Karoli  @nationwideclass no, it's not behaving at all....  "
      ]
     },
     "execution_count": 7,
     "metadata": {},
     "output_type": "execute_result"
    }
   ],
   "source": [
    "df.columns = [\"target\",\"id\",\"date\",\"flag\",\"user\",\"text\"]\n",
    "df.head() #eplorar datos"
   ]
  },
  {
   "cell_type": "code",
   "execution_count": 8,
   "metadata": {
    "vscode": {
     "languageId": "plaintext"
    }
   },
   "outputs": [
    {
     "data": {
      "text/html": [
       "<div>\n",
       "<style scoped>\n",
       "    .dataframe tbody tr th:only-of-type {\n",
       "        vertical-align: middle;\n",
       "    }\n",
       "\n",
       "    .dataframe tbody tr th {\n",
       "        vertical-align: top;\n",
       "    }\n",
       "\n",
       "    .dataframe thead th {\n",
       "        text-align: right;\n",
       "    }\n",
       "</style>\n",
       "<table border=\"1\" class=\"dataframe\">\n",
       "  <thead>\n",
       "    <tr style=\"text-align: right;\">\n",
       "      <th></th>\n",
       "      <th>target</th>\n",
       "      <th>text</th>\n",
       "    </tr>\n",
       "  </thead>\n",
       "  <tbody>\n",
       "    <tr>\n",
       "      <th>0</th>\n",
       "      <td>0</td>\n",
       "      <td>@switchfoot http://twitpic.com/2y1zl - Awww, t...</td>\n",
       "    </tr>\n",
       "    <tr>\n",
       "      <th>1</th>\n",
       "      <td>0</td>\n",
       "      <td>is upset that he can't update his Facebook by ...</td>\n",
       "    </tr>\n",
       "    <tr>\n",
       "      <th>2</th>\n",
       "      <td>0</td>\n",
       "      <td>@Kenichan I dived many times for the ball. Man...</td>\n",
       "    </tr>\n",
       "    <tr>\n",
       "      <th>3</th>\n",
       "      <td>0</td>\n",
       "      <td>my whole body feels itchy and like its on fire</td>\n",
       "    </tr>\n",
       "    <tr>\n",
       "      <th>4</th>\n",
       "      <td>0</td>\n",
       "      <td>@nationwideclass no, it's not behaving at all....</td>\n",
       "    </tr>\n",
       "  </tbody>\n",
       "</table>\n",
       "</div>"
      ],
      "text/plain": [
       "   target                                               text\n",
       "0       0  @switchfoot http://twitpic.com/2y1zl - Awww, t...\n",
       "1       0  is upset that he can't update his Facebook by ...\n",
       "2       0  @Kenichan I dived many times for the ball. Man...\n",
       "3       0    my whole body feels itchy and like its on fire \n",
       "4       0  @nationwideclass no, it's not behaving at all...."
      ]
     },
     "execution_count": 8,
     "metadata": {},
     "output_type": "execute_result"
    }
   ],
   "source": [
    "# 4) Selecciona columnas relevantes\n",
    "#    Por ejemplo, nos quedamos con 'target' y 'text'\n",
    "df = df[[\"target\",\"text\"]]\n",
    "\n",
    "df.head()"
   ]
  },
  {
   "cell_type": "code",
   "execution_count": 9,
   "metadata": {
    "vscode": {
     "languageId": "plaintext"
    }
   },
   "outputs": [
    {
     "data": {
      "text/html": [
       "<div>\n",
       "<style scoped>\n",
       "    .dataframe tbody tr th:only-of-type {\n",
       "        vertical-align: middle;\n",
       "    }\n",
       "\n",
       "    .dataframe tbody tr th {\n",
       "        vertical-align: top;\n",
       "    }\n",
       "\n",
       "    .dataframe thead th {\n",
       "        text-align: right;\n",
       "    }\n",
       "</style>\n",
       "<table border=\"1\" class=\"dataframe\">\n",
       "  <thead>\n",
       "    <tr style=\"text-align: right;\">\n",
       "      <th></th>\n",
       "      <th>target</th>\n",
       "      <th>text</th>\n",
       "      <th>sentiment</th>\n",
       "    </tr>\n",
       "  </thead>\n",
       "  <tbody>\n",
       "    <tr>\n",
       "      <th>0</th>\n",
       "      <td>0</td>\n",
       "      <td>@switchfoot http://twitpic.com/2y1zl - Awww, t...</td>\n",
       "      <td>neg</td>\n",
       "    </tr>\n",
       "    <tr>\n",
       "      <th>1</th>\n",
       "      <td>0</td>\n",
       "      <td>is upset that he can't update his Facebook by ...</td>\n",
       "      <td>neg</td>\n",
       "    </tr>\n",
       "    <tr>\n",
       "      <th>2</th>\n",
       "      <td>0</td>\n",
       "      <td>@Kenichan I dived many times for the ball. Man...</td>\n",
       "      <td>neg</td>\n",
       "    </tr>\n",
       "    <tr>\n",
       "      <th>3</th>\n",
       "      <td>0</td>\n",
       "      <td>my whole body feels itchy and like its on fire</td>\n",
       "      <td>neg</td>\n",
       "    </tr>\n",
       "    <tr>\n",
       "      <th>4</th>\n",
       "      <td>0</td>\n",
       "      <td>@nationwideclass no, it's not behaving at all....</td>\n",
       "      <td>neg</td>\n",
       "    </tr>\n",
       "  </tbody>\n",
       "</table>\n",
       "</div>"
      ],
      "text/plain": [
       "   target                                               text sentiment\n",
       "0       0  @switchfoot http://twitpic.com/2y1zl - Awww, t...       neg\n",
       "1       0  is upset that he can't update his Facebook by ...       neg\n",
       "2       0  @Kenichan I dived many times for the ball. Man...       neg\n",
       "3       0    my whole body feels itchy and like its on fire        neg\n",
       "4       0  @nationwideclass no, it's not behaving at all....       neg"
      ]
     },
     "execution_count": 9,
     "metadata": {},
     "output_type": "execute_result"
    }
   ],
   "source": [
    "# 5) Para simplificar, mapeamos {0->neg, 2->neu, 4->pos}\n",
    "def map_sentiment(value):\n",
    "    if value == 0:\n",
    "        return \"neg\"\n",
    "    elif value == 2:\n",
    "        return \"neu\"\n",
    "    elif value == 4:\n",
    "        return \"pos\"\n",
    "\n",
    "df[\"sentiment\"] = df[\"target\"].apply(map_sentiment)\n",
    "df.head()"
   ]
  },
  {
   "cell_type": "code",
   "execution_count": 10,
   "metadata": {},
   "outputs": [
    {
     "data": {
      "text/plain": [
       "neg    800000\n",
       "pos    800000\n",
       "Name: sentiment, dtype: int64"
      ]
     },
     "execution_count": 10,
     "metadata": {},
     "output_type": "execute_result"
    }
   ],
   "source": [
    "df['sentiment'].value_counts()"
   ]
  },
  {
   "cell_type": "code",
   "execution_count": 11,
   "metadata": {
    "vscode": {
     "languageId": "plaintext"
    }
   },
   "outputs": [
    {
     "data": {
      "text/plain": [
       "0    a thats a bummer you shoulda got david carr of...\n",
       "1    is upset that he cant update his facebook by t...\n",
       "2    i dived many times for the ball managed to sav...\n",
       "3       my whole body feels itchy and like its on fire\n",
       "4    no its not behaving at all im mad why am i her...\n",
       "Name: clean_text, dtype: object"
      ]
     },
     "execution_count": 11,
     "metadata": {},
     "output_type": "execute_result"
    }
   ],
   "source": [
    "# 6) Limpieza / Preprocesamiento\n",
    "#    Aquí puedes hacer todo lo que quieras: quitar URL, stopwords, etc.\n",
    "import re\n",
    "def basic_clean(text):\n",
    "    text = text.lower()\n",
    "    text = re.sub(r'http\\S+|www\\S+','', text) # quita URLs\n",
    "    text = re.sub(r'@\\w+','', text)          # quita menciones\n",
    "    text = re.sub(r'[^a-záéíóúüñ\\s]', '', text) # deja solo letras\n",
    "    text = re.sub(r'\\s+',' ', text).strip() #limina los espacios en blanco y caracteres espaciales\n",
    "    #que hay tanto a la decrecha como a la izquierda del String \"s\".\n",
    "    #Existen también las variantes de:\n",
    "    #s.rstrip(): Elimina los espacios en blanco y caracteres espaciales que hay a la derecha del string.\n",
    "    #s.lstrip(): Elimina los espacios en blanco y caracteres espaciales que hay a la izquierda del string.\n",
    "    return text\n",
    "\n",
    "df[\"clean_text\"] = df[\"text\"].apply(basic_clean)\n",
    "df[\"clean_text\"].head()"
   ]
  },
  {
   "cell_type": "code",
   "execution_count": 12,
   "metadata": {
    "vscode": {
     "languageId": "plaintext"
    }
   },
   "outputs": [
    {
     "data": {
      "text/plain": [
       "0    [a, thats, a, bummer, you, shoulda, got, david...\n",
       "1    [is, upset, that, he, cant, update, his, faceb...\n",
       "2    [i, dived, many, times, for, the, ball, manage...\n",
       "3    [my, whole, body, feels, itchy, and, like, its...\n",
       "4    [no, its, not, behaving, at, all, im, mad, why...\n",
       "Name: Tokens, dtype: object"
      ]
     },
     "execution_count": 12,
     "metadata": {},
     "output_type": "execute_result"
    }
   ],
   "source": [
    "# 7) Tokenización\n",
    "def Tokens(text):\n",
    "    \n",
    "    text = re.split(r'[ \\t\\n]+', text) # Tokeniza genera una lista\n",
    "    #El uso de la r convierte a los caracteres especiales en parte del\n",
    "    #texto y no en comandos ejecutables dentro de la cadena, lo que es esencial \n",
    "    #cuando tratamos con texto que incluye caracteres de escape.\n",
    "    #el uso de \\s+ permite dividir el texto en base a uno o más espacios vacíos, \n",
    "    #creando tokens individuales para cada palabra\n",
    "    return text\n",
    "df[\"Tokens\"] = df[\"clean_text\"].apply(Tokens)\n",
    "df[\"Tokens\"].head()\n",
    "\n",
    "#df[\"tokens\"] = df[\"clean_text\"].apply(lambda x: x.split())\n",
    "#df[\"tokens\"].head()"
   ]
  },
  {
   "cell_type": "code",
   "execution_count": 13,
   "metadata": {},
   "outputs": [],
   "source": [
    "def stratified_kfold(y, k=5):\n",
    "    # Organizar índices por clase\n",
    "    class_indices = defaultdict(list)\n",
    "    for idx, label in enumerate(y):\n",
    "        class_indices[label].append(idx)\n",
    "    \n",
    "    folds = [[] for _ in range(k)]\n",
    "    # Distribuir índices de cada clase en los folds\n",
    "    for label, indices in class_indices.items():\n",
    "        np.random.shuffle(indices)  # Mezclar para evitar orden sesgado\n",
    "        n_samples = len(indices)\n",
    "        fold_sizes = np.full(k, n_samples // k, dtype=int)\n",
    "        fold_sizes[:n_samples % k] += 1  # Añadir resto a los primeros folds\n",
    "        \n",
    "        current = 0\n",
    "        for i in range(k):\n",
    "            start, end = current, current + fold_sizes[i]\n",
    "            folds[i].extend(indices[start:end])\n",
    "            current = end\n",
    "    \n",
    "    # Mezclar los folds para evitar orden secuencial\n",
    "    for fold in folds:\n",
    "        np.random.shuffle(fold)\n",
    "    \n",
    "    return folds"
   ]
  },
  {
   "cell_type": "code",
   "execution_count": 14,
   "metadata": {},
   "outputs": [],
   "source": [
    "#Convertiremos tokens en vectores numéricos usando solo el vocabulario del training set.\n",
    "def create_bow(tokens_list, vocab):\n",
    "    # Crear un diccionario de índices para el vocabulario\n",
    "    word_to_idx = {word: i for i, word in enumerate(vocab)}\n",
    "    # Inicializar matriz BoW\n",
    "    bow = np.zeros((len(tokens_list), len(vocab)), dtype=int)\n",
    "    for i, tokens in enumerate(tokens_list):\n",
    "        for word in tokens:\n",
    "            if word in word_to_idx:\n",
    "                bow[i, word_to_idx[word]] += 1\n",
    "    return bow"
   ]
  },
  {
   "cell_type": "code",
   "execution_count": null,
   "metadata": {},
   "outputs": [],
   "source": [
    "k = 5\n",
    "# Solo se pasa 'y' (las etiquetas) como argumento posicional\n",
    "folds = stratified_kfold(y=df[\"sentiment\"], k=k)  # ¡Corregido!\n",
    "accuracies = []\n",
    "\n",
    "for fold in folds:\n",
    "    # Dividir en train y test\n",
    "    test_indices = fold\n",
    "    train_indices = [i for i in range(len(df)) if i not in test_indices]\n",
    "    \n",
    "    # Obtener datos de entrenamiento y test\n",
    "    X_train = [df[\"Tokens\"][i] for i in train_indices]\n",
    "    y_train = [df[\"sentiment\"][i] for i in train_indices]\n",
    "    X_test = [df[\"Tokens\"][i] for i in test_indices]\n",
    "    y_test = [df[\"sentiment\"][i] for i in test_indices]\n",
    "    \n",
    "    # Crear vocabulario solo con el training set\n",
    "    vocab = list({word for tokens in X_train for word in tokens})\n",
    "    \n",
    "    # Convertir a BoW\n",
    "    X_train_bow = create_bow(X_train, vocab)\n",
    "    X_test_bow = create_bow(X_test, vocab)\n",
    "    \n",
    "   \n",
    "     # Instanciar modelo de Naive Bayes\n",
    "    builder = RecNBBuilder().set_laplace(1.0)\n",
    "    model = builder.build()\n",
    "\n",
    "    # Entrenar modelo \n",
    "    model.fit(X_train, y_train)\n",
    "    \n",
    "    # Evaluar\n",
    "    accuracy = model.score(X_test_bow, y_test)\n",
    "    accuracies.append(accuracy)\n",
    "    print(f\"Fold Accuracy: {accuracy:.4f}\")\n",
    "\n",
    "print(f\"\\nAccuracy promedio: {np.mean(accuracies):.4f}\")"
   ]
  },
  {
   "cell_type": "code",
   "execution_count": null,
   "metadata": {
    "vscode": {
     "languageId": "plaintext"
    }
   },
   "outputs": [],
   "source": [
    "# 11) Probar predicción en un tweet nuevo\n",
    "tweet_nuevo = \"I'm at the office working on a new project.\"\n",
    "tweet_clean = basic_clean(tweet_nuevo)\n",
    "tokens_nuevo = tweet_clean.split()\n",
    "\n",
    "prediccion = nb_model.predict([tokens_nuevo])\n",
    "print(\"Tweet nuevo:\", tweet_nuevo)\n",
    "print(\"Predicción:\", prediccion[0])"
   ]
  },
  {
   "cell_type": "code",
   "execution_count": null,
   "metadata": {},
   "outputs": [],
   "source": []
  }
 ],
 "metadata": {
  "kernelspec": {
   "display_name": "Python 3 (ipykernel)",
   "language": "python",
   "name": "python3"
  },
  "language_info": {
   "codemirror_mode": {
    "name": "ipython",
    "version": 3
   },
   "file_extension": ".py",
   "mimetype": "text/x-python",
   "name": "python",
   "nbconvert_exporter": "python",
   "pygments_lexer": "ipython3",
   "version": "3.10.9"
  }
 },
 "nbformat": 4,
 "nbformat_minor": 4
}
